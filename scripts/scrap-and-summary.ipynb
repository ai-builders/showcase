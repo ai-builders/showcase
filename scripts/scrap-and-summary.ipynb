{
 "cells": [
  {
   "attachments": {},
   "cell_type": "markdown",
   "metadata": {},
   "source": [
    "# <b><ins><font size=7>AI-Builders Showcase</font></ins></b>"
   ]
  },
  {
   "attachments": {},
   "cell_type": "markdown",
   "metadata": {},
   "source": [
    "## <font color='2CA2EE' size=6> Import Libraries and Access API Key</font>"
   ]
  },
  {
   "cell_type": "code",
   "execution_count": 21,
   "metadata": {},
   "outputs": [],
   "source": [
    "from bs4 import BeautifulSoup\n",
    "from bs4.element import Comment\n",
    "from urllib.request import urlopen, Request\n",
    "import urllib.parse\n",
    "from langchain.prompts import PromptTemplate\n",
    "from langchain.chat_models import ChatOpenAI\n",
    "from langchain.chains import LLMChain, SequentialChain\n",
    "from langchain.callbacks import get_openai_callback\n",
    "import pandas as pd\n",
    "from datetime import datetime\n",
    "import openai\n",
    "import os"
   ]
  },
  {
   "attachments": {},
   "cell_type": "markdown",
   "metadata": {},
   "source": [
    "Change API key to be your own API key"
   ]
  },
  {
   "cell_type": "code",
   "execution_count": 2,
   "metadata": {},
   "outputs": [],
   "source": [
    "GPT_MODEL = 'gpt-3.5-turbo-16k'  \n",
    "\n",
    "os.environ['OPENAI_API_KEY'] = 'sk-...' # OpenAI API key\n",
    "openai.api_key = os.environ['OPENAI_API_KEY']"
   ]
  },
  {
   "attachments": {},
   "cell_type": "markdown",
   "metadata": {},
   "source": [
    "## <font color='2CA2EE' size=6>Web Scraping and Prompt Functions</font>"
   ]
  },
  {
   "attachments": {},
   "cell_type": "markdown",
   "metadata": {},
   "source": [
    "### <font size=5>• Web Scraping</font>"
   ]
  },
  {
   "cell_type": "code",
   "execution_count": 3,
   "metadata": {},
   "outputs": [],
   "source": [
    "def tag_visible(element):\n",
    "    if element.parent.name in ['style', 'script', 'head', 'title', 'meta', '[document]']:\n",
    "        return False\n",
    "    if isinstance(element, Comment):\n",
    "        return False\n",
    "    return True"
   ]
  },
  {
   "cell_type": "code",
   "execution_count": 4,
   "metadata": {},
   "outputs": [],
   "source": [
    "def text_from_html(body):\n",
    "    soup = BeautifulSoup(body, 'html.parser', from_encoding=\"utf-8\")\n",
    "    texts = soup.findAll(string=True)\n",
    "    visible_texts = filter(tag_visible, texts)  \n",
    "    return u\" \".join(t.strip() for t in visible_texts)"
   ]
  },
  {
   "cell_type": "code",
   "execution_count": 5,
   "metadata": {},
   "outputs": [],
   "source": [
    "# Url sometimes return UnicodeEncodeErrot, this helps to solve such problem\n",
    "def url_encodeErrror_debug(url):\n",
    "    url = urllib.parse.urlsplit(url)\n",
    "    url = list(url)\n",
    "    for i in range(len(url)):\n",
    "        url[i] = urllib.parse.quote(url[i])\n",
    "    url = urllib.parse.urlunsplit(url)\n",
    "    return url"
   ]
  },
  {
   "cell_type": "code",
   "execution_count": 6,
   "metadata": {},
   "outputs": [],
   "source": [
    "def parse_text(url):\n",
    "    headers = {'User-Agent': 'Mozilla/5.0'}\n",
    "    try:\n",
    "        req = Request(url, headers=headers)\n",
    "        page = urlopen(req)\n",
    "    except UnicodeDecodeError:\n",
    "        url = url_encodeErrror_debug(url)\n",
    "        req = Request(url, headers=headers)\n",
    "        page = urlopen(req)\n",
    "\n",
    "    parsed_text = text_from_html(page)\n",
    "    return parsed_text[:5000]\n",
    "    "
   ]
  },
  {
   "attachments": {},
   "cell_type": "markdown",
   "metadata": {},
   "source": [
    "### <font size=5>• Template Import</font>"
   ]
  },
  {
   "cell_type": "code",
   "execution_count": 7,
   "metadata": {},
   "outputs": [],
   "source": [
    "def import_summary_template(file):\n",
    "    with open(file, 'r') as s:\n",
    "        return s.read()"
   ]
  },
  {
   "cell_type": "code",
   "execution_count": 8,
   "metadata": {},
   "outputs": [],
   "source": [
    "def import_translate_template(file):\n",
    "    with open(file, 'r') as t:\n",
    "        return t.read()"
   ]
  },
  {
   "attachments": {},
   "cell_type": "markdown",
   "metadata": {},
   "source": [
    "### <font size=5>• Prompting</font>"
   ]
  },
  {
   "cell_type": "code",
   "execution_count": 9,
   "metadata": {},
   "outputs": [],
   "source": [
    "def get_completion(summary_temp, translate_temp, parsed_text, model=GPT_MODEL):\n",
    "    \n",
    "    llm = ChatOpenAI(temperature=0.9, model=model)\n",
    "    summary_prompt = PromptTemplate(\n",
    "        input_variables=[\"parsed_text\"],\n",
    "        template = summary_temp\n",
    "    )\n",
    "    summary_chain = LLMChain(llm=llm, prompt=summary_prompt, output_key=\"summary\")\n",
    "\n",
    "    translate_prompt = PromptTemplate(\n",
    "        input_variables=[\"summary\"],\n",
    "        template = translate_temp\n",
    "    )\n",
    "    translate_chain = LLMChain(llm=llm, prompt=translate_prompt, output_key=\"translated_summary\")\n",
    "\n",
    "    overall_chain = SequentialChain(\n",
    "        chains=[summary_chain, translate_chain],\n",
    "        input_variables=[\"parsed_text\"],\n",
    "        output_variables=[\"summary\", \"translated_summary\"]\n",
    "    )\n",
    "    return overall_chain({\"parsed_text\": parsed_text})\n"
   ]
  },
  {
   "attachments": {},
   "cell_type": "markdown",
   "metadata": {},
   "source": [
    "## <font color='2CA2EE' size=6>Main Program</font>"
   ]
  },
  {
   "cell_type": "code",
   "execution_count": 12,
   "metadata": {},
   "outputs": [],
   "source": [
    "summary_file = './template/summary_prompt.txt'\n",
    "translate_file = './template/translate_prompt.txt'\n",
    "\n",
    "summary_template = import_summary_template(summary_file)\n",
    "translate_template = import_translate_template(translate_file)"
   ]
  },
  {
   "cell_type": "code",
   "execution_count": 13,
   "metadata": {},
   "outputs": [],
   "source": [
    "# Import .csv to read blog websites\n",
    "csv_file = \"./csv/ai_builders_2023.csv\"\n",
    "df = pd.read_csv(csv_file)\n",
    "dict_df = df.to_dict()\n",
    "\n",
    "list_blogURL = list(dict_df['Blog URL'].values())"
   ]
  },
  {
   "cell_type": "code",
   "execution_count": 40,
   "metadata": {},
   "outputs": [],
   "source": [
    "# Prompt to summary blogs\n",
    "dict_ENGsummary = {}\n",
    "dict_THsummary = {}\n",
    "total_cb = 0\n",
    "prompt_cb = 0\n",
    "completion_cb = 0\n",
    "\n",
    "for i in range(len(list_blogURL)):\n",
    "   parsed_text =  parse_text(list_blogURL[i])\n",
    "   with get_openai_callback() as cb:\n",
    "      response = get_completion(summary_template, translate_template, parsed_text)\n",
    "   dict_ENGsummary[i] = response['summary']\n",
    "   dict_THsummary[i] = response['translated_summary']\n",
    "   total_cb += cb.total_tokens\n",
    "   prompt_cb += cb.prompt_tokens\n",
    "   completion_cb += cb.completion_tokens\n",
    "    \n",
    "dict_df['English Summary'] = dict_ENGsummary\n",
    "dict_df['Thai Summary'] = dict_THsummary"
   ]
  },
  {
   "cell_type": "code",
   "execution_count": 41,
   "metadata": {},
   "outputs": [],
   "source": [
    "# Export into .csv\n",
    "summary_df = pd.DataFrame(dict_df)\n",
    "summary_df.to_csv('./csv/ai_builders_2023_summary.csv')"
   ]
  },
  {
   "cell_type": "code",
   "execution_count": 42,
   "metadata": {},
   "outputs": [],
   "source": [
    "# Export total tokens and costs\n",
    "callback = './callback.txt'\n",
    "now = datetime.now()\n",
    "dt_string = now.strftime(\"%d/%m/%Y %H:%M:%S\")\n",
    "\n",
    "with open(callback, 'a') as c:\n",
    "    c.write(f\"\"\"\n",
    "{dt_string}\\n\n",
    "Total Tokens used: {total_cb}\n",
    "    Prompt Tokens: {prompt_cb}\n",
    "    Completion Tokens: {completion_cb}\n",
    "Cost (USD): ${(total_cb/1000)*0.003}\\n\n",
    "\"\"\")\n",
    "    c.write('----------------------------------------')\n",
    "c.close()"
   ]
  }
 ],
 "metadata": {
  "kernelspec": {
   "display_name": "ScrapPrompt",
   "language": "python",
   "name": "python3"
  },
  "language_info": {
   "codemirror_mode": {
    "name": "ipython",
    "version": 3
   },
   "file_extension": ".py",
   "mimetype": "text/x-python",
   "name": "python",
   "nbconvert_exporter": "python",
   "pygments_lexer": "ipython3",
   "version": "3.9.12"
  },
  "orig_nbformat": 4
 },
 "nbformat": 4,
 "nbformat_minor": 2
}
